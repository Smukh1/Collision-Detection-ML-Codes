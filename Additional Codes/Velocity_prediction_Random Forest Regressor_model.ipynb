{
 "cells": [
  {
   "cell_type": "code",
   "execution_count": null,
   "id": "387f3726",
   "metadata": {},
   "outputs": [],
   "source": [
    "import os\n",
    "os.environ[\"CUDA_VISIBLE_DEVICES\"]=\"5,6\"\n",
    "os.environ['TF_FORCE_GPU_ALLOW_GROWTH'] = 'true'"
   ]
  },
  {
   "cell_type": "code",
   "execution_count": null,
   "id": "eca0251e",
   "metadata": {},
   "outputs": [],
   "source": [
    "import pandas as pd\n",
    "import numpy as np\n",
    "import matplotlib.pyplot as plt\n",
    "import tensorflow as tf\n",
    "from tensorflow.keras import layers\n",
    "from sklearn.model_selection import train_test_split\n",
    "from sklearn.ensemble import RandomForestRegressor\n",
    "from sklearn.metrics import mean_absolute_error"
   ]
  },
  {
   "cell_type": "code",
   "execution_count": null,
   "id": "4ca8d834",
   "metadata": {},
   "outputs": [],
   "source": [
    "# Defining columns to use\n",
    "columns_to_use = [\"global_x\", \"global_y\", \"v_vel\", \"v_acc\"] #using just 4 of them\n",
    "\n",
    "# Defining chunk size for reading data\n",
    "chunk_size = 100\n",
    "\n",
    "# Initializing an empty list to store data chunks\n",
    "data_chunks = []\n",
    "\n",
    "for chunk in pd.read_csv(\"https://data.transportation.gov/resource/8ect-6jqj.csv\", \n",
    "                         chunksize=chunk_size, usecols=columns_to_use):\n",
    "    data_chunks.append(chunk)\n",
    "\n",
    "# Concatenate data chunks into a single DataFrame\n",
    "velocity_dataset = pd.concat(data_chunks, ignore_index=True)"
   ]
  },
  {
   "cell_type": "code",
   "execution_count": null,
   "id": "b46e8255",
   "metadata": {},
   "outputs": [],
   "source": [
    "# Assuming your dataset is already loaded and preprocessed\n",
    "# Define input features and labels\n",
    "input_features = [\"global_x\", \"global_y\", \"v_acc\"]\n",
    "output_labels = [\"v_vel\"]\n",
    "\n",
    "# Load your dataset\n",
    "# v_dataset = pd.read_csv('your_dataset.csv')  # Replace with your dataset path\n",
    "# Assuming v_dataset is already available"
   ]
  },
  {
   "cell_type": "code",
   "execution_count": null,
   "id": "8c25f0e5",
   "metadata": {},
   "outputs": [],
   "source": [
    "# Split dataset into input features and labels\n",
    "X = v_dataset[input_features]\n",
    "Y = v_dataset[output_labels]\n",
    "\n",
    "# Split the dataset into training and test sets (80-20 split)\n",
    "train_features, test_features, train_labels, test_labels = train_test_split(X, Y, test_size=0.2, random_state=42)"
   ]
  },
  {
   "cell_type": "code",
   "execution_count": null,
   "id": "88d8e756",
   "metadata": {},
   "outputs": [],
   "source": [
    "# Define normalization layer\n",
    "feature_normalizer = layers.Normalization(axis=-1)\n",
    "feature_normalizer.adapt(train_features)\n",
    "\n",
    "# Normalize the training and test features\n",
    "normalized_train_features = feature_normalizer(train_features)\n",
    "normalized_test_features = feature_normalizer(test_features)"
   ]
  },
  {
   "cell_type": "code",
   "execution_count": null,
   "id": "b34c68cd",
   "metadata": {},
   "outputs": [],
   "source": [
    "# Initialize and train the Random Forest Regressor\n",
    "rf_model = RandomForestRegressor(n_estimators=100, random_state=42)"
   ]
  },
  {
   "cell_type": "code",
   "execution_count": null,
   "id": "d5a99274",
   "metadata": {},
   "outputs": [],
   "source": [
    "%%time\n",
    "rf_model.fit(normalized_train_features, train_labels.values.ravel())\n",
    "\n",
    "# Predict on the test set\n",
    "test_predictions = rf_model.predict(normalized_test_features)\n",
    "\n",
    "# Evaluate the model\n",
    "mae = mean_absolute_error(test_labels, test_predictions)\n",
    "print(f\"Mean Absolute Error: {mae}\")"
   ]
  },
  {
   "cell_type": "code",
   "execution_count": null,
   "id": "81430979",
   "metadata": {},
   "outputs": [],
   "source": [
    "# Plot the predictions vs. true values\n",
    "plt.figure(figsize=(10, 6))\n",
    "plt.scatter(test_labels, test_predictions, color='blue', label='Predicted Values', alpha=0.6)\n",
    "plt.scatter(test_labels, test_labels, color='red', label='True Values', alpha=0.3)  # True values for comparison\n",
    "plt.xlabel('True Values [vehicle_velocity]')\n",
    "plt.ylabel('Predictions [vehicle_velocity]')\n",
    "plt.legend()\n",
    "plt.grid(True)\n",
    "lims = [0, 50]\n",
    "plt.xlim(lims)\n",
    "plt.ylim(lims)\n",
    "plt.plot(lims, lims, 'k--', label='Perfect Prediction')  # Diagonal line for perfect prediction\n",
    "plt.legend()\n",
    "plt.show()"
   ]
  }
 ],
 "metadata": {
  "kernelspec": {
   "display_name": "Python 3 (ipykernel)",
   "language": "python",
   "name": "python3"
  },
  "language_info": {
   "codemirror_mode": {
    "name": "ipython",
    "version": 3
   },
   "file_extension": ".py",
   "mimetype": "text/x-python",
   "name": "python",
   "nbconvert_exporter": "python",
   "pygments_lexer": "ipython3",
   "version": "3.10.12"
  }
 },
 "nbformat": 4,
 "nbformat_minor": 5
}

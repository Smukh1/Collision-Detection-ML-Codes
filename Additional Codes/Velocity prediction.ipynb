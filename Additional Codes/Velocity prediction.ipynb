{
 "cells": [
  {
   "cell_type": "code",
   "execution_count": 332,
   "id": "5a427086",
   "metadata": {},
   "outputs": [],
   "source": [
    "# import os\n",
    "# os.environ['CUDA_VISIBLE_DEVICES'] = '5,6'\n",
    "import os\n",
    "os.environ[\"CUDA_VISIBLE_DEVICES\"]=\"5,6\"\n",
    "os.environ['TF_FORCE_GPU_ALLOW_GROWTH'] = 'true'"
   ]
  },
  {
   "cell_type": "code",
   "execution_count": 333,
   "id": "79740486",
   "metadata": {},
   "outputs": [
    {
     "name": "stdout",
     "output_type": "stream",
     "text": [
      "\u001b[33mWARNING: Running pip as the 'root' user can result in broken permissions and conflicting behaviour with the system package manager. It is recommended to use a virtual environment instead: https://pip.pypa.io/warnings/venv\u001b[0m\u001b[33m\n",
      "\u001b[0m\u001b[33mWARNING: Running pip as the 'root' user can result in broken permissions and conflicting behaviour with the system package manager. It is recommended to use a virtual environment instead: https://pip.pypa.io/warnings/venv\u001b[0m\u001b[33m\n",
      "\u001b[0m"
     ]
    }
   ],
   "source": [
    "# Using seaborn for pairplot.\n",
    "!pip install -q seaborn\n",
    "!pip install -q tensorflow"
   ]
  },
  {
   "cell_type": "code",
   "execution_count": 334,
   "id": "524f77c2",
   "metadata": {},
   "outputs": [
    {
     "name": "stdout",
     "output_type": "stream",
     "text": [
      "2.14.0\n"
     ]
    }
   ],
   "source": [
    "import matplotlib.pyplot as plt\n",
    "import numpy as np\n",
    "import pandas as pd\n",
    "import seaborn as sns\n",
    "\n",
    "# Make NumPy printouts easier to read.\n",
    "np.set_printoptions(precision=3, suppress=True)\n",
    "\n",
    "import tensorflow as tf\n",
    "from tensorflow import keras\n",
    "from tensorflow.keras import layers\n",
    "from sklearn.model_selection import train_test_split\n",
    "\n",
    "print(tf.__version__)"
   ]
  },
  {
   "cell_type": "code",
   "execution_count": 335,
   "id": "c1535ca1",
   "metadata": {},
   "outputs": [],
   "source": [
    "# Defining columns to use\n",
    "columns_to_use = [\"global_x\", \"global_y\", \"v_vel\", \"v_acc\"] #using just 4 of them\n",
    "\n",
    "# Defining chunk size for reading data\n",
    "chunk_size = 100\n",
    "\n",
    "# Initializing an empty list to store data chunks\n",
    "data_chunks = []\n",
    "\n",
    "for chunk in pd.read_csv(\"https://data.transportation.gov/resource/8ect-6jqj.csv\", \n",
    "                         chunksize=chunk_size, usecols=columns_to_use):\n",
    "    data_chunks.append(chunk)\n",
    "\n",
    "# Concatenate data chunks into a single DataFrame\n",
    "velocity_dataset = pd.concat(data_chunks, ignore_index=True)\n",
    "\n",
    "# trajectory_dataset = pd.read_csv(\n",
    "#     \"https://data.transportation.gov/resource/8ect-6jqj.csv\")\n",
    "\n",
    "#   names=[\"Vehicle_ID\", \"Frame_Id\", \"Total_Frames\", \"Global_Time\", \"Local_X\",\n",
    "#            \"Local_Y\", \"Global_X\", \"Global_Y\", \"v_length\", \"v_Width\", \"v_Vel\", \n",
    "#            \"v_Acc\", \"Lane_ID\", \"O_Zone\", \"D_Zone\", \"Int_ID\", \"Section_ID\", \"Direction\",\n",
    "#            \"Movement\", \"Preceding\", \"Following\", \"Space_Headway\", \"Time_Headway\", \"Location\"]"
   ]
  },
  {
   "cell_type": "code",
   "execution_count": 336,
   "id": "f0247052",
   "metadata": {},
   "outputs": [
    {
     "data": {
      "text/plain": [
       "(1000, 4)"
      ]
     },
     "execution_count": 336,
     "metadata": {},
     "output_type": "execute_result"
    }
   ],
   "source": [
    "velocity_dataset.shape"
   ]
  },
  {
   "cell_type": "code",
   "execution_count": 337,
   "id": "5a3c99b1",
   "metadata": {},
   "outputs": [
    {
     "data": {
      "text/plain": [
       "array([[<Axes: title={'center': 'global_x'}>,\n",
       "        <Axes: title={'center': 'global_y'}>],\n",
       "       [<Axes: title={'center': 'v_vel'}>,\n",
       "        <Axes: title={'center': 'v_acc'}>]], dtype=object)"
      ]
     },
     "execution_count": 337,
     "metadata": {},
     "output_type": "execute_result"
    },
    {
     "data": {
      "image/png": "[encoded data removed]",
      "text/plain": [
       "<Figure size 640x480 with 4 Axes>"
      ]
     },
     "metadata": {},
     "output_type": "display_data"
    }
   ],
   "source": [
    "velocity_dataset.hist()"
   ]
  },
  {
   "cell_type": "code",
   "execution_count": 338,
   "id": "f067ca55",
   "metadata": {},
   "outputs": [
    {
     "data": {
      "text/html": [
       "<div>\n",
       "<style scoped>\n",
       "    .dataframe tbody tr th:only-of-type {\n",
       "        vertical-align: middle;\n",
       "    }\n",
       "\n",
       "    .dataframe tbody tr th {\n",
       "        vertical-align: top;\n",
       "    }\n",
       "\n",
       "    .dataframe thead th {\n",
       "        text-align: right;\n",
       "    }\n",
       "</style>\n",
       "<table border=\"1\" class=\"dataframe\">\n",
       "  <thead>\n",
       "    <tr style=\"text-align: right;\">\n",
       "      <th></th>\n",
       "      <th>global_x</th>\n",
       "      <th>global_y</th>\n",
       "      <th>v_vel</th>\n",
       "      <th>v_acc</th>\n",
       "    </tr>\n",
       "  </thead>\n",
       "  <tbody>\n",
       "    <tr>\n",
       "      <th>995</th>\n",
       "      <td>2230522.629</td>\n",
       "      <td>1375574.155</td>\n",
       "      <td>0.0</td>\n",
       "      <td>0.0</td>\n",
       "    </tr>\n",
       "    <tr>\n",
       "      <th>996</th>\n",
       "      <td>2230522.629</td>\n",
       "      <td>1375574.155</td>\n",
       "      <td>0.0</td>\n",
       "      <td>0.0</td>\n",
       "    </tr>\n",
       "    <tr>\n",
       "      <th>997</th>\n",
       "      <td>2230522.629</td>\n",
       "      <td>1375574.155</td>\n",
       "      <td>0.0</td>\n",
       "      <td>0.0</td>\n",
       "    </tr>\n",
       "    <tr>\n",
       "      <th>998</th>\n",
       "      <td>2230522.629</td>\n",
       "      <td>1375574.155</td>\n",
       "      <td>0.0</td>\n",
       "      <td>0.0</td>\n",
       "    </tr>\n",
       "    <tr>\n",
       "      <th>999</th>\n",
       "      <td>2230522.629</td>\n",
       "      <td>1375574.155</td>\n",
       "      <td>0.0</td>\n",
       "      <td>0.0</td>\n",
       "    </tr>\n",
       "  </tbody>\n",
       "</table>\n",
       "</div>"
      ],
      "text/plain": [
       "        global_x     global_y  v_vel  v_acc\n",
       "995  2230522.629  1375574.155    0.0    0.0\n",
       "996  2230522.629  1375574.155    0.0    0.0\n",
       "997  2230522.629  1375574.155    0.0    0.0\n",
       "998  2230522.629  1375574.155    0.0    0.0\n",
       "999  2230522.629  1375574.155    0.0    0.0"
      ]
     },
     "execution_count": 338,
     "metadata": {},
     "output_type": "execute_result"
    }
   ],
   "source": [
    "v_dataset = velocity_dataset.copy()\n",
    "v_dataset.tail()"
   ]
  },
  {
   "cell_type": "code",
   "execution_count": 339,
   "id": "7251f9a4",
   "metadata": {},
   "outputs": [
    {
     "name": "stdout",
     "output_type": "stream",
     "text": [
      "Train Features Shape: (800, 3)\n",
      "Train Labels Shape: (800, 1)\n",
      "Test Features Shape: (200, 3)\n",
      "Test Labels Shape: (200, 1)\n"
     ]
    }
   ],
   "source": [
    "# Define input features and labels (trying an alternate method: using train_test_split form sklearn)\n",
    "input_features = [\"global_x\", \"global_y\", \"v_acc\"]\n",
    "output_labels = [\"v_vel\"]\n",
    "\n",
    "# Split dataset into input features and labels\n",
    "X = v_dataset[input_features]\n",
    "Y = v_dataset[output_labels]\n",
    "\n",
    "# Split the dataset into training and test sets (80-20 split)\n",
    "train_features, test_features, train_labels, test_labels = train_test_split(X, Y, test_size=0.2, random_state=42)\n",
    "\n",
    "# Print the shape of training and test sets\n",
    "print(\"Train Features Shape:\", train_features.shape)\n",
    "print(\"Train Labels Shape:\", train_labels.shape)\n",
    "print(\"Test Features Shape:\", test_features.shape)\n",
    "print(\"Test Labels Shape:\", test_labels.shape)"
   ]
  },
  {
   "cell_type": "code",
   "execution_count": 340,
   "id": "c582a439",
   "metadata": {},
   "outputs": [
    {
     "data": {
      "text/html": [
       "<div>\n",
       "<style scoped>\n",
       "    .dataframe tbody tr th:only-of-type {\n",
       "        vertical-align: middle;\n",
       "    }\n",
       "\n",
       "    .dataframe tbody tr th {\n",
       "        vertical-align: top;\n",
       "    }\n",
       "\n",
       "    .dataframe thead th {\n",
       "        text-align: right;\n",
       "    }\n",
       "</style>\n",
       "<table border=\"1\" class=\"dataframe\">\n",
       "  <thead>\n",
       "    <tr style=\"text-align: right;\">\n",
       "      <th></th>\n",
       "      <th>count</th>\n",
       "      <th>mean</th>\n",
       "      <th>std</th>\n",
       "      <th>min</th>\n",
       "      <th>25%</th>\n",
       "      <th>50%</th>\n",
       "      <th>75%</th>\n",
       "      <th>max</th>\n",
       "    </tr>\n",
       "  </thead>\n",
       "  <tbody>\n",
       "    <tr>\n",
       "      <th>global_x</th>\n",
       "      <td>800.0</td>\n",
       "      <td>2.230522e+06</td>\n",
       "      <td>4.214597</td>\n",
       "      <td>2230502.731</td>\n",
       "      <td>2.230520e+06</td>\n",
       "      <td>2230521.572</td>\n",
       "      <td>2230522.475</td>\n",
       "      <td>2230532.603</td>\n",
       "    </tr>\n",
       "    <tr>\n",
       "      <th>global_y</th>\n",
       "      <td>800.0</td>\n",
       "      <td>1.375565e+06</td>\n",
       "      <td>8.054386</td>\n",
       "      <td>1375532.938</td>\n",
       "      <td>1.375558e+06</td>\n",
       "      <td>1375567.959</td>\n",
       "      <td>1375572.436</td>\n",
       "      <td>1375574.155</td>\n",
       "    </tr>\n",
       "    <tr>\n",
       "      <th>v_acc</th>\n",
       "      <td>800.0</td>\n",
       "      <td>-2.365250e-01</td>\n",
       "      <td>4.432375</td>\n",
       "      <td>-12.270</td>\n",
       "      <td>0.000000e+00</td>\n",
       "      <td>0.000</td>\n",
       "      <td>0.000</td>\n",
       "      <td>12.270</td>\n",
       "    </tr>\n",
       "  </tbody>\n",
       "</table>\n",
       "</div>"
      ],
      "text/plain": [
       "          count          mean       std          min           25%  \\\n",
       "global_x  800.0  2.230522e+06  4.214597  2230502.731  2.230520e+06   \n",
       "global_y  800.0  1.375565e+06  8.054386  1375532.938  1.375558e+06   \n",
       "v_acc     800.0 -2.365250e-01  4.432375      -12.270  0.000000e+00   \n",
       "\n",
       "                  50%          75%          max  \n",
       "global_x  2230521.572  2230522.475  2230532.603  \n",
       "global_y  1375567.959  1375572.436  1375574.155  \n",
       "v_acc           0.000        0.000       12.270  "
      ]
     },
     "execution_count": 340,
     "metadata": {},
     "output_type": "execute_result"
    }
   ],
   "source": [
    "train_features.describe().transpose()"
   ]
  },
  {
   "cell_type": "code",
   "execution_count": 341,
   "id": "05c928a7",
   "metadata": {},
   "outputs": [
    {
     "data": {
      "text/html": [
       "<div>\n",
       "<style scoped>\n",
       "    .dataframe tbody tr th:only-of-type {\n",
       "        vertical-align: middle;\n",
       "    }\n",
       "\n",
       "    .dataframe tbody tr th {\n",
       "        vertical-align: top;\n",
       "    }\n",
       "\n",
       "    .dataframe thead th {\n",
       "        text-align: right;\n",
       "    }\n",
       "</style>\n",
       "<table border=\"1\" class=\"dataframe\">\n",
       "  <thead>\n",
       "    <tr style=\"text-align: right;\">\n",
       "      <th></th>\n",
       "      <th>count</th>\n",
       "      <th>mean</th>\n",
       "      <th>std</th>\n",
       "      <th>min</th>\n",
       "      <th>25%</th>\n",
       "      <th>50%</th>\n",
       "      <th>75%</th>\n",
       "      <th>max</th>\n",
       "    </tr>\n",
       "  </thead>\n",
       "  <tbody>\n",
       "    <tr>\n",
       "      <th>v_vel</th>\n",
       "      <td>800.0</td>\n",
       "      <td>10.702663</td>\n",
       "      <td>12.586978</td>\n",
       "      <td>0.0</td>\n",
       "      <td>0.24</td>\n",
       "      <td>4.225</td>\n",
       "      <td>20.58</td>\n",
       "      <td>51.3</td>\n",
       "    </tr>\n",
       "  </tbody>\n",
       "</table>\n",
       "</div>"
      ],
      "text/plain": [
       "       count       mean        std  min   25%    50%    75%   max\n",
       "v_vel  800.0  10.702663  12.586978  0.0  0.24  4.225  20.58  51.3"
      ]
     },
     "execution_count": 341,
     "metadata": {},
     "output_type": "execute_result"
    }
   ],
   "source": [
    "train_labels.describe().transpose()"
   ]
  },
  {
   "cell_type": "code",
   "execution_count": 342,
   "id": "90d30600",
   "metadata": {},
   "outputs": [
    {
     "name": "stdout",
     "output_type": "stream",
     "text": [
      "[[2230521.8   1375565.2        -0.237]]\n"
     ]
    }
   ],
   "source": [
    "feature_normalizer = tf.keras.layers.Normalization(axis=-1)\n",
    "feature_normalizer.adapt(np.array(train_features))\n",
    "print(feature_normalizer.mean.numpy())"
   ]
  },
  {
   "cell_type": "code",
   "execution_count": 343,
   "id": "53860acd",
   "metadata": {},
   "outputs": [],
   "source": [
    "# first = np.array(train_features[:1])\n",
    "# with np.printoptions(precision=2, suppress=True):\n",
    "#   print('Normalized:', feature_normalizer(first).numpy())"
   ]
  },
  {
   "cell_type": "code",
   "execution_count": 344,
   "id": "8f523d87",
   "metadata": {},
   "outputs": [
    {
     "name": "stdout",
     "output_type": "stream",
     "text": [
      "[[10.703]]\n"
     ]
    }
   ],
   "source": [
    "#normailizing the output layer\n",
    "label_normalizer=layers.Normalization(axis=-1)\n",
    "label_normalizer.adapt(train_labels)\n",
    "print(label_normalizer.mean.numpy())"
   ]
  },
  {
   "cell_type": "code",
   "execution_count": 345,
   "id": "6ce87c61",
   "metadata": {},
   "outputs": [],
   "source": [
    "# Apply normalization to train and test features and labels\n",
    "normalized_train_features = feature_normalizer(train_features)\n",
    "normalized_test_features = feature_normalizer(test_features)\n",
    "normalized_train_labels = label_normalizer(train_labels)\n",
    "normalized_test_labels = label_normalizer(test_labels)"
   ]
  },
  {
   "cell_type": "code",
   "execution_count": 346,
   "id": "42f39345",
   "metadata": {},
   "outputs": [
    {
     "name": "stdout",
     "output_type": "stream",
     "text": [
      "Feature Normalizer Mean: [[2230521.8   1375565.2        -0.237]]\n",
      "Label Normalizer Mean: [[10.703]]\n",
      "Normalized Features: [[-0.71 -2.02  0.05]]\n",
      "Normalized Labels: [[-0.55]]\n"
     ]
    }
   ],
   "source": [
    "print(\"Feature Normalizer Mean:\", feature_normalizer.mean.numpy())\n",
    "print(\"Label Normalizer Mean:\", label_normalizer.mean.numpy())\n",
    "\n",
    "first = np.array(train_features[:1])\n",
    "with np.printoptions(precision=2, suppress=True):\n",
    "    print('Normalized Features:', feature_normalizer(first).numpy())\n",
    "    print('Normalized Labels:', label_normalizer(np.array(train_labels[:1])).numpy())"
   ]
  },
  {
   "cell_type": "code",
   "execution_count": 347,
   "id": "434ecefd",
   "metadata": {},
   "outputs": [],
   "source": [
    "def build_and_compile_model(norm_input):\n",
    "  model = keras.Sequential([\n",
    "      norm_input,\n",
    "      layers.Dense(64, activation='relu'),\n",
    "      layers.Dense(64, activation='relu'),\n",
    "      layers.Dense(64, activation='relu'),\n",
    "      layers.Dense(64, activation='relu'),\n",
    "      layers.Dense(64, activation='relu'),\n",
    "      layers.Dense(64, activation='relu'),\n",
    "      layers.Dense(64, activation='relu'),\n",
    "      layers.Dense(64, activation='relu'),\n",
    "      layers.Dense(64, activation='relu'),\n",
    "      layers.Dense(64, activation='relu'),\n",
    "      layers.Dense(64, activation='relu'),\n",
    "      layers.Dense(64, activation='relu'),\n",
    "      layers.Dense(64, activation='relu'),\n",
    "      layers.Dense(64, activation='relu'),\n",
    "      layers.Dense(64, activation='relu'),\n",
    "      layers.Dense(64, activation='relu'),\n",
    "      layers.Dense(64, activation='relu'),\n",
    "      layers.Dense(64, activation='relu'),\n",
    "      layers.Dense(64, activation='relu'),\n",
    "      layers.Dense(64, activation='relu'),\n",
    "      layers.Dense(64, activation='relu'),\n",
    "      layers.Dense(64, activation='relu'),\n",
    "      layers.Dense(64, activation='relu'),\n",
    "      layers.Dense(64, activation='relu'),\n",
    "      layers.Dense(64, activation='relu'),\n",
    "      layers.Dense(64, activation='relu'),\n",
    "      layers.Dense(64, activation='relu'),\n",
    "      layers.Dense(64, activation='relu'),\n",
    "      layers.Dense(64, activation='relu'),\n",
    "      layers.Dense(64, activation='relu'),\n",
    "      layers.Dense(64, activation='relu'),\n",
    "      layers.Dense(64, activation='relu'),\n",
    "      layers.Dense(64, activation='relu'),\n",
    "      #norm_output,  # Add normalization layer for output labels\n",
    "      layers.Dense(1)\n",
    "  ])\n",
    "\n",
    "  model.compile(loss='mean_absolute_error',\n",
    "                optimizer=tf.keras.optimizers.Adam(0.0001))\n",
    "  return model"
   ]
  },
  {
   "cell_type": "code",
   "execution_count": 348,
   "id": "c2ae4eca",
   "metadata": {},
   "outputs": [
    {
     "name": "stdout",
     "output_type": "stream",
     "text": [
      "Model: \"sequential_19\"\n",
      "_________________________________________________________________\n",
      " Layer (type)                Output Shape              Param #   \n",
      "=================================================================\n",
      " normalization_19 (Normaliz  (None, 3)                 7         \n",
      " ation)                                                          \n",
      "                                                                 \n",
      " dense_644 (Dense)           (None, 64)                256       \n",
      "                                                                 \n",
      " dense_645 (Dense)           (None, 64)                4160      \n",
      "                                                                 \n",
      " dense_646 (Dense)           (None, 64)                4160      \n",
      "                                                                 \n",
      " dense_647 (Dense)           (None, 64)                4160      \n",
      "                                                                 \n",
      " dense_648 (Dense)           (None, 64)                4160      \n",
      "                                                                 \n",
      " dense_649 (Dense)           (None, 64)                4160      \n",
      "                                                                 \n",
      " dense_650 (Dense)           (None, 64)                4160      \n",
      "                                                                 \n",
      " dense_651 (Dense)           (None, 64)                4160      \n",
      "                                                                 \n",
      " dense_652 (Dense)           (None, 64)                4160      \n",
      "                                                                 \n",
      " dense_653 (Dense)           (None, 64)                4160      \n",
      "                                                                 \n",
      " dense_654 (Dense)           (None, 64)                4160      \n",
      "                                                                 \n",
      " dense_655 (Dense)           (None, 64)                4160      \n",
      "                                                                 \n",
      " dense_656 (Dense)           (None, 64)                4160      \n",
      "                                                                 \n",
      " dense_657 (Dense)           (None, 64)                4160      \n",
      "                                                                 \n",
      " dense_658 (Dense)           (None, 64)                4160      \n",
      "                                                                 \n",
      " dense_659 (Dense)           (None, 64)                4160      \n",
      "                                                                 \n",
      " dense_660 (Dense)           (None, 64)                4160      \n",
      "                                                                 \n",
      " dense_661 (Dense)           (None, 64)                4160      \n",
      "                                                                 \n",
      " dense_662 (Dense)           (None, 64)                4160      \n",
      "                                                                 \n",
      " dense_663 (Dense)           (None, 64)                4160      \n",
      "                                                                 \n",
      " dense_664 (Dense)           (None, 64)                4160      \n",
      "                                                                 \n",
      " dense_665 (Dense)           (None, 64)                4160      \n",
      "                                                                 \n",
      " dense_666 (Dense)           (None, 64)                4160      \n",
      "                                                                 \n",
      " dense_667 (Dense)           (None, 64)                4160      \n",
      "                                                                 \n",
      " dense_668 (Dense)           (None, 64)                4160      \n",
      "                                                                 \n",
      " dense_669 (Dense)           (None, 64)                4160      \n",
      "                                                                 \n",
      " dense_670 (Dense)           (None, 64)                4160      \n",
      "                                                                 \n",
      " dense_671 (Dense)           (None, 64)                4160      \n",
      "                                                                 \n",
      " dense_672 (Dense)           (None, 64)                4160      \n",
      "                                                                 \n",
      " dense_673 (Dense)           (None, 64)                4160      \n",
      "                                                                 \n",
      " dense_674 (Dense)           (None, 64)                4160      \n",
      "                                                                 \n",
      " dense_675 (Dense)           (None, 64)                4160      \n",
      "                                                                 \n",
      " dense_676 (Dense)           (None, 64)                4160      \n",
      "                                                                 \n",
      " dense_677 (Dense)           (None, 1)                 65        \n",
      "                                                                 \n",
      "=================================================================\n",
      "Total params: 133448 (521.29 KB)\n",
      "Trainable params: 133441 (521.25 KB)\n",
      "Non-trainable params: 7 (32.00 Byte)\n",
      "_________________________________________________________________\n"
     ]
    }
   ],
   "source": [
    "dnn_model = build_and_compile_model(feature_normalizer)\n",
    "dnn_model.summary()"
   ]
  },
  {
   "cell_type": "code",
   "execution_count": 349,
   "id": "ae176bd6",
   "metadata": {},
   "outputs": [
    {
     "name": "stdout",
     "output_type": "stream",
     "text": [
      "CPU times: user 40.6 s, sys: 4.11 s, total: 44.7 s\n",
      "Wall time: 1min 25s\n"
     ]
    }
   ],
   "source": [
    "%%time\n",
    "history = dnn_model.fit(\n",
    "    train_features,\n",
    "    train_labels,\n",
    "    validation_split=0.2,\n",
    "    verbose=0, epochs=100)"
   ]
  },
  {
   "cell_type": "code",
   "execution_count": 237,
   "id": "a10d347a",
   "metadata": {},
   "outputs": [],
   "source": [
    "# %%time\n",
    "# history = dnn_model.fit(\n",
    "#     normalized_train_features,\n",
    "#     train_labels,\n",
    "#     validation_split=0.2,\n",
    "#     verbose=0, epochs=100)"
   ]
  },
  {
   "cell_type": "code",
   "execution_count": 238,
   "id": "cee6a4cb",
   "metadata": {},
   "outputs": [],
   "source": [
    "# %%time\n",
    "# history = dnn_model.fit(\n",
    "#     normalized_train_features,\n",
    "#     normalized_train_labels,\n",
    "#     validation_split=0.2,\n",
    "#     verbose=0, epochs=100)"
   ]
  },
  {
   "cell_type": "code",
   "execution_count": 300,
   "id": "3a3e5630",
   "metadata": {},
   "outputs": [
    {
     "data": {
      "text/html": [
       "<div>\n",
       "<style scoped>\n",
       "    .dataframe tbody tr th:only-of-type {\n",
       "        vertical-align: middle;\n",
       "    }\n",
       "\n",
       "    .dataframe tbody tr th {\n",
       "        vertical-align: top;\n",
       "    }\n",
       "\n",
       "    .dataframe thead th {\n",
       "        text-align: right;\n",
       "    }\n",
       "</style>\n",
       "<table border=\"1\" class=\"dataframe\">\n",
       "  <thead>\n",
       "    <tr style=\"text-align: right;\">\n",
       "      <th></th>\n",
       "      <th>loss</th>\n",
       "      <th>val_loss</th>\n",
       "      <th>epoch</th>\n",
       "    </tr>\n",
       "  </thead>\n",
       "  <tbody>\n",
       "    <tr>\n",
       "      <th>95</th>\n",
       "      <td>6.041904</td>\n",
       "      <td>5.992603</td>\n",
       "      <td>95</td>\n",
       "    </tr>\n",
       "    <tr>\n",
       "      <th>96</th>\n",
       "      <td>5.983880</td>\n",
       "      <td>6.095132</td>\n",
       "      <td>96</td>\n",
       "    </tr>\n",
       "    <tr>\n",
       "      <th>97</th>\n",
       "      <td>6.255401</td>\n",
       "      <td>6.521251</td>\n",
       "      <td>97</td>\n",
       "    </tr>\n",
       "    <tr>\n",
       "      <th>98</th>\n",
       "      <td>5.980024</td>\n",
       "      <td>6.072623</td>\n",
       "      <td>98</td>\n",
       "    </tr>\n",
       "    <tr>\n",
       "      <th>99</th>\n",
       "      <td>5.659808</td>\n",
       "      <td>5.561027</td>\n",
       "      <td>99</td>\n",
       "    </tr>\n",
       "  </tbody>\n",
       "</table>\n",
       "</div>"
      ],
      "text/plain": [
       "        loss  val_loss  epoch\n",
       "95  6.041904  5.992603     95\n",
       "96  5.983880  6.095132     96\n",
       "97  6.255401  6.521251     97\n",
       "98  5.980024  6.072623     98\n",
       "99  5.659808  5.561027     99"
      ]
     },
     "execution_count": 300,
     "metadata": {},
     "output_type": "execute_result"
    }
   ],
   "source": [
    "hist = pd.DataFrame(history.history)\n",
    "hist['epoch'] = history.epoch\n",
    "hist.tail()"
   ]
  },
  {
   "cell_type": "code",
   "execution_count": null,
   "id": "c78067c4",
   "metadata": {},
   "outputs": [],
   "source": [
    "def plot_loss(history):\n",
    "  plt.plot(history.history['loss'], label='loss')\n",
    "  plt.plot(history.history['val_loss'], label='val_loss')\n",
    "  plt.ylim([0, 10])\n",
    "  plt.xlabel('Epoch')\n",
    "  plt.ylabel('Error [v_velocity]')\n",
    "  plt.legend()\n",
    "  plt.grid(True)"
   ]
  },
  {
   "cell_type": "code",
   "execution_count": null,
   "id": "d100b0c3",
   "metadata": {},
   "outputs": [],
   "source": [
    "plot_loss(history)"
   ]
  },
  {
   "cell_type": "code",
   "execution_count": 303,
   "id": "f73cb8d8",
   "metadata": {},
   "outputs": [
    {
     "name": "stdout",
     "output_type": "stream",
     "text": [
      "7/7 [==============================] - 1s 3ms/step\n"
     ]
    }
   ],
   "source": [
    "test_results = {}\n",
    "test_results['dnn_model'] = dnn_model.evaluate(test_features, test_labels, verbose=0)\n",
    "test_predictions = dnn_model.predict(test_features).flatten()"
   ]
  },
  {
   "cell_type": "code",
   "execution_count": 35,
   "id": "0c2fa1ce",
   "metadata": {},
   "outputs": [],
   "source": [
    "# A = tf.linspace(0.0, 250, 251)\n",
    "# B = dnn_model.predict(A)"
   ]
  },
  {
   "cell_type": "code",
   "execution_count": null,
   "id": "ca6fdb5f",
   "metadata": {},
   "outputs": [],
   "source": [
    "# def plot_v_vel(A, B):\n",
    "#   plt.scatter(train_features, train_labels, label='Data')\n",
    "#   plt.plot(x, y, color='k', label='Predictions')\n",
    "#   plt.xlabel('input_features')\n",
    "#   plt.ylabel('vehicle_velocity')\n",
    "#   plt.legend()"
   ]
  },
  {
   "cell_type": "code",
   "execution_count": null,
   "id": "5855541a",
   "metadata": {},
   "outputs": [],
   "source": [
    "# plot_v_vel(A, B)"
   ]
  },
  {
   "cell_type": "code",
   "execution_count": 54,
   "id": "dd33e3cf",
   "metadata": {},
   "outputs": [],
   "source": [
    "# test_predictions = dnn_model.predict(test_features).flatten()\n",
    "\n",
    "# a = plt.axes(aspect='equal')\n",
    "# plt.scatter(test_labels, test_predictions)\n",
    "# plt.xlabel('True Values [vehicle_velocity]')\n",
    "# plt.ylabel('Predictions [vehicle_velocity]')\n",
    "# lims = [0, 50]\n",
    "# plt.xlim(lims)\n",
    "# plt.ylim(lims)\n",
    "# _ = plt.plot(lims, lims)"
   ]
  },
  {
   "cell_type": "code",
   "execution_count": 304,
   "id": "c296a754",
   "metadata": {},
   "outputs": [
    {
     "data": {
      "image/png": "[encoded data removed]",
      "text/plain": [
       "<Figure size 1000x600 with 1 Axes>"
      ]
     },
     "metadata": {},
     "output_type": "display_data"
    }
   ],
   "source": [
    "plot_data = pd.DataFrame({'True Values': test_labels.values.flatten(),\n",
    "                          'Predictions': test_predictions})\n",
    "\n",
    "plt.figure(figsize=(10, 6))\n",
    "sns.scatterplot(x='True Values', y='Predictions', data=plot_data, color='blue', label='Predictions')\n",
    "sns.scatterplot(x='True Values', y='True Values', data=plot_data, color='red', label='True Values')\n",
    "plt.xlabel('True Values [vehicle_velocity]')\n",
    "plt.ylabel('Predictions [vehicle_velocity]')\n",
    "plt.legend()\n",
    "plt.grid(True)\n",
    "lims = [0, 50]\n",
    "plt.xlim(lims)\n",
    "plt.ylim(lims)\n",
    "plt.plot(lims, lims, 'k--')  # Diagonal line\n",
    "plt.show()"
   ]
  },
  {
   "cell_type": "code",
   "execution_count": 308,
   "id": "69a3f06b",
   "metadata": {},
   "outputs": [
    {
     "name": "stdout",
     "output_type": "stream",
     "text": [
      "1/1 [==============================] - 0s 205ms/step\n",
      "Input Features: [[2230522.249 1375570.665       0.49 ]]\n",
      "True Label: 15.35\n",
      "Predicted Label: 0.41623827815055847\n",
      "Error (absolute difference): 14.933761721849441\n"
     ]
    }
   ],
   "source": [
    "def predict_and_compare(index):\n",
    "    inp_features = np.array([test_features.iloc[index]])\n",
    "    \n",
    "    true_label = test_labels.iloc[index].values[0]\n",
    "    \n",
    "    predicted_label = dnn_model.predict(inp_features)[0][0]\n",
    "    \n",
    "    error = abs(true_label - predicted_label) # Calculating the absolute error\n",
    "    \n",
    "    print(f\"Input Features: {inp_features}\")\n",
    "    print(f\"True Label: {true_label}\")\n",
    "    print(f\"Predicted Label: {predicted_label}\")\n",
    "    print(f\"Error (absolute difference): {error}\")\n",
    "\n",
    "\n",
    "index_to_check = 160\n",
    "predict_and_compare(index_to_check)"
   ]
  },
  {
   "cell_type": "code",
   "execution_count": null,
   "id": "d5ebccac",
   "metadata": {},
   "outputs": [],
   "source": [
    "# def predict_and_compare(index):\n",
    "#     inp_features = np.array([test_features.iloc[index]])\n",
    "#     normalized_inp_features = normalizer(inp_features)\n",
    "#     true_label = test_labels.iloc[index].values[0]\n",
    "#     predicted_label = dnn_model.predict(normalized_inp_features)[0][0]\n",
    "#         # Calculate the absolute error\n",
    "#     error = abs(true_label - predicted_label)\n",
    "    \n",
    "#     print(f\"Input Features: {inp_features}\")\n",
    "#     print(f\"True Label: {true_label}\")#\n",
    "#     print(f\"Predicted Label: {predicted_label}\")\n",
    "#     print(f\"Error (absolute difference): {error}\")\n",
    "\n",
    "# index_to_check =30\n",
    "# predict_and_compare(index_to_check)"
   ]
  },
  {
   "cell_type": "code",
   "execution_count": 309,
   "id": "d3e71fd8",
   "metadata": {},
   "outputs": [
    {
     "name": "stdout",
     "output_type": "stream",
     "text": [
      "75\n"
     ]
    }
   ],
   "source": [
    "max_index = velocity_dataset['v_vel'].idxmax()\n",
    "print(max_index)"
   ]
  },
  {
   "cell_type": "code",
   "execution_count": 313,
   "id": "cdff4e3d",
   "metadata": {},
   "outputs": [
    {
     "name": "stdout",
     "output_type": "stream",
     "text": [
      "1/1 [==============================] - 1s 612ms/step\n",
      "New Predicted Label: [[312.385]]\n"
     ]
    }
   ],
   "source": [
    "new_data = np.array([[2230180.8, 1375590.2, 0.37]])\n",
    "new_label_prediction = dnn_model.predict(new_data)\n",
    "print(f\"New Predicted Label: {new_label_prediction}\")"
   ]
  },
  {
   "cell_type": "code",
   "execution_count": null,
   "id": "aa5988bc",
   "metadata": {},
   "outputs": [],
   "source": []
  }
 ],
 "metadata": {
  "kernelspec": {
   "display_name": "Python 3 (ipykernel)",
   "language": "python",
   "name": "python3"
  },
  "language_info": {
   "codemirror_mode": {
    "name": "ipython",
    "version": 3
   },
   "file_extension": ".py",
   "mimetype": "text/x-python",
   "name": "python",
   "nbconvert_exporter": "python",
   "pygments_lexer": "ipython3",
   "version": "3.10.12"
  }
 },
 "nbformat": 4,
 "nbformat_minor": 5
}
